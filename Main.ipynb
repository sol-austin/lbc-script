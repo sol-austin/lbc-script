{
 "metadata": {
  "language_info": {
   "codemirror_mode": {
    "name": "ipython",
    "version": 3
   },
   "file_extension": ".py",
   "mimetype": "text/x-python",
   "name": "python",
   "nbconvert_exporter": "python",
   "pygments_lexer": "ipython3",
   "version": "3.9.0"
  },
  "orig_nbformat": 2,
  "kernelspec": {
   "name": "python390jvsc74a57bd0aee8b7b246df8f9039afb4144a1f6fd8d2ca17a180786b69acc140d282b71a49",
   "display_name": "Python 3.9.0 64-bit"
  },
  "metadata": {
   "interpreter": {
    "hash": "aee8b7b246df8f9039afb4144a1f6fd8d2ca17a180786b69acc140d282b71a49"
   }
  }
 },
 "nbformat": 4,
 "nbformat_minor": 2,
 "cells": [
  {
   "cell_type": "code",
   "execution_count": 1,
   "metadata": {},
   "outputs": [],
   "source": [
    "import librosa\n",
    "import numpy\n",
    "import soundfile as sf\n",
    "import itertools"
   ]
  },
  {
   "cell_type": "code",
   "execution_count": 99,
   "metadata": {},
   "outputs": [
    {
     "output_type": "stream",
     "name": "stderr",
     "text": [
      "/Library/Frameworks/Python.framework/Versions/3.9/lib/python3.9/site-packages/librosa/core/audio.py:162: UserWarning: PySoundFile failed. Trying audioread instead.\n  warnings.warn(\"PySoundFile failed. Trying audioread instead.\")\n"
     ]
    }
   ],
   "source": [
    "clip, sr = librosa.load('music2.m4a')"
   ]
  },
  {
   "cell_type": "code",
   "execution_count": 100,
   "metadata": {},
   "outputs": [
    {
     "output_type": "stream",
     "name": "stderr",
     "text": [
      "/Library/Frameworks/Python.framework/Versions/3.9/lib/python3.9/site-packages/librosa/core/audio.py:162: UserWarning: PySoundFile failed. Trying audioread instead.\n  warnings.warn(\"PySoundFile failed. Trying audioread instead.\")\n"
     ]
    }
   ],
   "source": [
    "start_matcher, _ = librosa.load('ad_start.mp3')"
   ]
  },
  {
   "cell_type": "code",
   "execution_count": 101,
   "metadata": {},
   "outputs": [
    {
     "output_type": "stream",
     "name": "stderr",
     "text": [
      "/Library/Frameworks/Python.framework/Versions/3.9/lib/python3.9/site-packages/librosa/core/audio.py:162: UserWarning: PySoundFile failed. Trying audioread instead.\n  warnings.warn(\"PySoundFile failed. Trying audioread instead.\")\n"
     ]
    }
   ],
   "source": [
    "news_matcher, _ = librosa.load('news_start.mp3')"
   ]
  },
  {
   "cell_type": "code",
   "execution_count": 102,
   "metadata": {},
   "outputs": [
    {
     "output_type": "stream",
     "name": "stderr",
     "text": [
      "/Library/Frameworks/Python.framework/Versions/3.9/lib/python3.9/site-packages/librosa/core/audio.py:162: UserWarning: PySoundFile failed. Trying audioread instead.\n  warnings.warn(\"PySoundFile failed. Trying audioread instead.\")\n"
     ]
    }
   ],
   "source": [
    "end_matcher, _ = librosa.load('ad_end.mp3')"
   ]
  },
  {
   "cell_type": "code",
   "execution_count": 103,
   "metadata": {},
   "outputs": [
    {
     "output_type": "stream",
     "name": "stderr",
     "text": [
      "/Library/Frameworks/Python.framework/Versions/3.9/lib/python3.9/site-packages/librosa/core/audio.py:162: UserWarning: PySoundFile failed. Trying audioread instead.\n  warnings.warn(\"PySoundFile failed. Trying audioread instead.\")\n"
     ]
    }
   ],
   "source": [
    "alt_matcher, _ = librosa.load('alt_ads.mp3')"
   ]
  },
  {
   "cell_type": "code",
   "execution_count": 104,
   "metadata": {},
   "outputs": [
    {
     "output_type": "stream",
     "name": "stderr",
     "text": [
      "/Library/Frameworks/Python.framework/Versions/3.9/lib/python3.9/site-packages/librosa/core/audio.py:162: UserWarning: PySoundFile failed. Trying audioread instead.\n  warnings.warn(\"PySoundFile failed. Trying audioread instead.\")\n"
     ]
    }
   ],
   "source": [
    "alt2_matcher, _ = librosa.load('alt2_ads.mp3')"
   ]
  },
  {
   "cell_type": "code",
   "execution_count": 105,
   "metadata": {},
   "outputs": [
    {
     "output_type": "stream",
     "name": "stderr",
     "text": [
      "/Library/Frameworks/Python.framework/Versions/3.9/lib/python3.9/site-packages/librosa/core/audio.py:162: UserWarning: PySoundFile failed. Trying audioread instead.\n  warnings.warn(\"PySoundFile failed. Trying audioread instead.\")\n"
     ]
    }
   ],
   "source": [
    "alt3_matcher, _ = librosa.load('alt3_ads.mp3')"
   ]
  },
  {
   "cell_type": "code",
   "execution_count": 106,
   "metadata": {},
   "outputs": [
    {
     "output_type": "stream",
     "name": "stderr",
     "text": [
      "/Library/Frameworks/Python.framework/Versions/3.9/lib/python3.9/site-packages/librosa/core/audio.py:162: UserWarning: PySoundFile failed. Trying audioread instead.\n  warnings.warn(\"PySoundFile failed. Trying audioread instead.\")\n"
     ]
    }
   ],
   "source": [
    "alt4_matcher, _ = librosa.load('alt4_ads.mp3')"
   ]
  },
  {
   "cell_type": "code",
   "execution_count": 107,
   "metadata": {},
   "outputs": [
    {
     "output_type": "stream",
     "name": "stderr",
     "text": [
      "/Library/Frameworks/Python.framework/Versions/3.9/lib/python3.9/site-packages/librosa/core/audio.py:162: UserWarning: PySoundFile failed. Trying audioread instead.\n  warnings.warn(\"PySoundFile failed. Trying audioread instead.\")\n"
     ]
    }
   ],
   "source": [
    "alt5_matcher, _ = librosa.load('alt5_ads.mp3')"
   ]
  },
  {
   "cell_type": "code",
   "execution_count": 108,
   "metadata": {},
   "outputs": [],
   "source": [
    "def get_scores(clip, matcher):\n",
    "    frames = librosa.util.frame(clip, len(matcher), 45, axis=0)\n",
    "    scores = []\n",
    "    for x, frame in enumerate(frames):\n",
    "        num = numpy.correlate(frame, matcher)\n",
    "        scores.append(num[0])\n",
    "    return scores, frames"
   ]
  },
  {
   "cell_type": "code",
   "execution_count": 109,
   "metadata": {},
   "outputs": [
    {
     "output_type": "stream",
     "name": "stdout",
     "text": [
      "start done\n",
      "end done\n"
     ]
    }
   ],
   "source": [
    "start_scores, start_frames = get_scores(clip, start_matcher)\n",
    "print('start done')\n",
    "end_scores, end_frames = get_scores(clip, end_matcher)\n",
    "print('end done')"
   ]
  },
  {
   "cell_type": "code",
   "execution_count": 110,
   "metadata": {},
   "outputs": [
    {
     "output_type": "stream",
     "name": "stdout",
     "text": [
      "news done\n"
     ]
    }
   ],
   "source": [
    "news_scores, news_frames = get_scores(clip, news_matcher)\n",
    "print('news done')"
   ]
  },
  {
   "cell_type": "code",
   "execution_count": 111,
   "metadata": {},
   "outputs": [],
   "source": [
    "alt_scores, alt_frames = get_scores(clip, alt_matcher)"
   ]
  },
  {
   "cell_type": "code",
   "execution_count": 112,
   "metadata": {},
   "outputs": [],
   "source": [
    "alt2_scores, alt2_frames = get_scores(clip, alt2_matcher)"
   ]
  },
  {
   "cell_type": "code",
   "execution_count": 113,
   "metadata": {},
   "outputs": [],
   "source": [
    "alt3_scores, alt3_frames = get_scores(clip, alt3_matcher)"
   ]
  },
  {
   "cell_type": "code",
   "execution_count": 114,
   "metadata": {},
   "outputs": [],
   "source": [
    "alt4_scores, alt4_frames = get_scores(clip, alt4_matcher)"
   ]
  },
  {
   "cell_type": "code",
   "execution_count": 115,
   "metadata": {},
   "outputs": [],
   "source": [
    "alt5_scores, alt5_frames = get_scores(clip, alt5_matcher)"
   ]
  },
  {
   "cell_type": "code",
   "execution_count": 116,
   "metadata": {
    "tags": []
   },
   "outputs": [],
   "source": [
    "def calc_val(way_through):\n",
    "    hours = numpy.floor(way_through * 3)\n",
    "    mins = ((way_through * 3) - hours)*60\n",
    "    secs = (((way_through * 3) - hours)*60 - mins ) * 60\n",
    "    return hours, mins, secs\n",
    "\n",
    "def get_times(scores, matcher, threshold, frames):\n",
    "    done_times = []\n",
    "    ret_times = []\n",
    "    for x, num in reversed(list(enumerate(scores))):\n",
    "        if num > threshold:\n",
    "            way_through = x/(len(scores)-(len(matcher)/45))\n",
    "            hours, mins, secs = calc_val(way_through)\n",
    "            if [hours, numpy.floor(mins)] in done_times:\n",
    "                continue\n",
    "            done_times.append([hours, numpy.floor(mins)])\n",
    "            ret_times.append([way_through, x])\n",
    "            print(x)\n",
    "            print(num)\n",
    "            print('It is ' + str(hours) + ' hours and ' + str(mins) + ' mins and ' + str(secs) + ' secs.')\n",
    "            sf.write(str(num)+'.wav', frames[x], sr)\n",
    "    return ret_times"
   ]
  },
  {
   "cell_type": "code",
   "execution_count": 117,
   "metadata": {},
   "outputs": [
    {
     "output_type": "stream",
     "name": "stdout",
     "text": [
      "4445746\n",
      "200.07356\n",
      "It is 2.0 hours and 31.2722487049688 mins and 0.0 secs.\n",
      "4110044\n",
      "211.62038\n",
      "It is 2.0 hours and 19.849554643104838 mins and 0.0 secs.\n",
      "1368627\n",
      "227.96942\n",
      "It is 0.0 hours and 46.569301064058834 mins and 0.0 secs.\n",
      "515899\n",
      "345.20367\n",
      "It is 0.0 hours and 17.554129685916536 mins and 0.0 secs.\n"
     ]
    }
   ],
   "source": [
    "start_times = get_times(start_scores, start_matcher, 200, start_frames)"
   ]
  },
  {
   "cell_type": "code",
   "execution_count": 118,
   "metadata": {},
   "outputs": [
    {
     "output_type": "stream",
     "name": "stdout",
     "text": [
      "5023820\n",
      "1171.9036\n",
      "It is 2.0 hours and 51.068727893703254 mins and 0.0 secs.\n",
      "4199400\n",
      "1573.4768\n",
      "It is 2.0 hours and 22.99597038047093 mins and 0.0 secs.\n",
      "4128515\n",
      "305.5868\n",
      "It is 2.0 hours and 20.58222809337761 mins and 0.0 secs.\n",
      "3296276\n",
      "300.16605\n",
      "It is 1.0 hours and 52.24322171306786 mins and 0.0 secs.\n",
      "2367128\n",
      "354.81958\n",
      "It is 1.0 hours and 20.60431618202204 mins and 0.0 secs.\n",
      "1472536\n",
      "1029.1456\n",
      "It is 0.0 hours and 50.14209511839242 mins and 0.0 secs.\n",
      "605084\n",
      "330.85995\n",
      "It is 0.0 hours and 20.604032419321065 mins and 0.0 secs.\n"
     ]
    }
   ],
   "source": [
    "end_times = get_times(end_scores, end_matcher, 300, end_frames)"
   ]
  },
  {
   "cell_type": "code",
   "execution_count": 119,
   "metadata": {},
   "outputs": [
    {
     "output_type": "stream",
     "name": "stdout",
     "text": [
      "1846882\n",
      "441.26416\n",
      "It is 1.0 hours and 2.9934416768595096 mins and 0.0 secs.\n",
      "8316\n",
      "606.6669\n",
      "It is 0.0 hours and 0.28364208486777376 mins and 0.0 secs.\n"
     ]
    }
   ],
   "source": [
    "news_times = get_times(news_scores, news_matcher, 400, news_frames)"
   ]
  },
  {
   "cell_type": "code",
   "execution_count": 120,
   "metadata": {},
   "outputs": [
    {
     "output_type": "stream",
     "name": "stdout",
     "text": [
      "4445866\n",
      "203.73381\n",
      "It is 2.0 hours and 31.26673357239276 mins and 0.0 secs.\n",
      "4110170\n",
      "150.98785\n",
      "It is 2.0 hours and 19.84496841048327 mins and 0.0 secs.\n",
      "1368746\n",
      "293.03848\n",
      "It is 0.0 hours and 46.570395173916246 mins and 0.0 secs.\n",
      "516019\n",
      "388.5209\n",
      "It is 0.0 hours and 17.557098794991248 mins and 0.0 secs.\n"
     ]
    }
   ],
   "source": [
    "alt_times = get_times(alt_scores, alt_matcher, 150, alt_frames)"
   ]
  },
  {
   "cell_type": "code",
   "execution_count": 121,
   "metadata": {},
   "outputs": [
    {
     "output_type": "stream",
     "name": "stdout",
     "text": [
      "2277933\n",
      "615.678\n",
      "It is 1.0 hours and 17.509705076597292 mins and 0.0 secs.\n",
      "983580\n",
      "393.67346\n",
      "It is 0.0 hours and 33.46761986381494 mins and 0.0 secs.\n"
     ]
    }
   ],
   "source": [
    "alt2_times = get_times(alt2_scores, alt2_matcher, 200, alt2_frames)"
   ]
  },
  {
   "cell_type": "code",
   "execution_count": 122,
   "metadata": {},
   "outputs": [
    {
     "output_type": "stream",
     "name": "stdout",
     "text": [
      "4912707\n",
      "477.17917\n",
      "It is 2.0 hours and 47.32700973741296 mins and 0.0 secs.\n",
      "4535708\n",
      "411.8438\n",
      "It is 2.0 hours and 34.48640773448567 mins and 0.0 secs.\n",
      "3295741\n",
      "489.7179\n",
      "It is 1.0 hours and 52.25307888278114 mins and 0.0 secs.\n",
      "2772526\n",
      "550.08093\n",
      "It is 1.0 hours and 34.432353689977965 mins and 0.0 secs.\n",
      "1932672\n",
      "432.141\n",
      "It is 1.0 hours and 5.826890666026969 mins and 0.0 secs.\n",
      "1073133\n",
      "549.25916\n",
      "It is 0.0 hours and 36.55095570335035 mins and 0.0 secs.\n",
      "604549\n",
      "437.07587\n",
      "It is 0.0 hours and 20.590964698229158 mins and 0.0 secs.\n",
      "110984\n",
      "561.7566\n",
      "It is 0.0 hours and 3.7801197687338246 mins and 0.0 secs.\n"
     ]
    }
   ],
   "source": [
    "alt3_times = get_times(alt3_scores, alt3_matcher, 400, alt3_frames)"
   ]
  },
  {
   "cell_type": "code",
   "execution_count": 123,
   "metadata": {},
   "outputs": [],
   "source": [
    "alt4_times = get_times(alt4_scores, alt4_matcher, 200, alt4_frames)"
   ]
  },
  {
   "cell_type": "code",
   "execution_count": 124,
   "metadata": {},
   "outputs": [
    {
     "output_type": "stream",
     "name": "stdout",
     "text": [
      "2683030\n281.33957\nIt is 1.0 hours and 31.291837071632674 mins and 0.0 secs.\n"
     ]
    }
   ],
   "source": [
    "alt5_times = get_times(alt5_scores, alt5_matcher, 200, alt5_frames)"
   ]
  },
  {
   "cell_type": "code",
   "execution_count": 125,
   "metadata": {},
   "outputs": [
    {
     "output_type": "stream",
     "name": "stdout",
     "text": [
      "[[0.8403707420688487, 4445866], [0.7769164911693515, 4110170], [0.258724417632868, 1368746], [0.09753943774995136, 516019]]\n"
     ]
    }
   ],
   "source": [
    "print(alt_times)\n",
    "fin_times_zipped_arr = [*alt_times, *alt2_times, *alt3_times, *alt4_times, *alt5_times, *start_times, *news_times, *end_times]"
   ]
  },
  {
   "cell_type": "code",
   "execution_count": 126,
   "metadata": {},
   "outputs": [
    {
     "output_type": "stream",
     "name": "stdout",
     "text": [
      "[0.001575789360376521, 0.02100066538185458, 0.09752294269953632, 0.09753943774995136, 0.11439424832349532, 0.1144668467740059, 0.18593122146563856, 0.20306086501861303, 0.25871833924477133, 0.258724417632868, 0.2785671951021801, 0.34996356487144176, 0.3657049481445943, 0.4306094726477627, 0.4478017565667891, 0.5071768726201815, 0.5246241871665442, 0.6235734539614881, 0.6236282160154508, 0.7769164911693515, 0.7769419702394713, 0.7810123782965422, 0.7944220576692829, 0.8403707420688487, 0.8404013816942711, 0.8582578207471425, 0.9295944985411831, 0.9503818216316847]\n"
     ]
    }
   ],
   "source": [
    "fin_times_arr, fin_timestamps_arr = zip(*fin_times_zipped_arr)\n",
    "fin_timestamps_arr = sorted(fin_timestamps_arr)\n",
    "sorted_times_arr = sorted(fin_times_arr)\n",
    "print(sorted_times_arr)"
   ]
  },
  {
   "cell_type": "code",
   "execution_count": 127,
   "metadata": {},
   "outputs": [
    {
     "output_type": "stream",
     "name": "stdout",
     "text": [
      "[(0.0, 0.28364208486777376, 0.0), 8316]\n",
      "375257\n",
      "[(0.0, 3.7801197687338246, 0.0), 110984]\n",
      "5001085\n",
      "ok\n",
      "[(0.0, 17.554129685916536, 0.0), 515899]\n",
      "23224054\n",
      "[(0.0, 17.557098794991248, 0.0), 516019]\n",
      "23227982\n",
      "[(0.0, 20.590964698229158, 0.0), 604549]\n",
      "27241776\n",
      "[(0.0, 20.604032419321065, 0.0), 605084]\n",
      "27259065\n",
      "ok\n",
      "[(0.0, 33.46761986381494, 0.0), 983580]\n",
      "44277548\n",
      "[(0.0, 36.55095570335035, 0.0), 1073133]\n",
      "48356790\n",
      "ok\n",
      "[(0.0, 46.569301064058834, 0.0), 1368627]\n",
      "61611028\n",
      "[(0.0, 46.570395173916246, 0.0), 1368746]\n",
      "61612475\n",
      "[(0.0, 50.14209511839242, 0.0), 1472536]\n",
      "66337822\n",
      "ok\n",
      "[(1.0, 2.9934416768595096, 0.0), 1846882]\n",
      "83340110\n",
      "[(1.0, 5.826890666026969, 0.0), 1932672]\n",
      "87088754\n",
      "ok\n",
      "[(1.0, 17.509705076597292, 0.0), 2277933]\n",
      "102545078\n",
      "[(1.0, 20.60431618202204, 0.0), 2367128]\n",
      "106639238\n",
      "ok\n",
      "[(1.0, 31.291837071632674, 0.0), 2683030]\n",
      "120778792\n",
      "[(1.0, 34.432353689977965, 0.0), 2772526]\n",
      "124933684\n",
      "ok\n",
      "[(1.0, 52.24322171306786, 0.0), 3295741]\n",
      "148497403\n",
      "[(1.0, 52.25307888278114, 0.0), 3296276]\n",
      "148510444\n",
      "ok\n",
      "[(2.0, 19.84496841048327, 0.0), 4110044]\n",
      "185014420\n",
      "[(2.0, 19.849554643104838, 0.0), 4110170]\n",
      "185020488\n",
      "[(2.0, 20.58222809337761, 0.0), 4128515]\n",
      "185989812\n",
      "[(2.0, 22.99597038047093, 0.0), 4199400]\n",
      "189183185\n",
      "ok\n",
      "[(2.0, 31.26673357239276, 0.0), 4445746]\n",
      "200125377\n",
      "[(2.0, 31.2722487049688, 0.0), 4445866]\n",
      "200132674\n",
      "[(2.0, 34.48640773448567, 0.0), 4535708]\n",
      "204384995\n",
      "ok\n",
      "[(2.0, 47.32700973741296, 0.0), 4912707]\n",
      "221373068\n",
      "[(2.0, 51.068727893703254, 0.0), 5023820]\n",
      "226323349\n"
     ]
    }
   ],
   "source": [
    "def calc_timeval(val):\n",
    "    hours, mins, secs = calc_val(val)\n",
    "    return (hours * 60) + mins\n",
    "def calc_timestamp(val):\n",
    "    return int(numpy.floor(val*len(clip)))\n",
    "\n",
    "fin_arr = []\n",
    "for idx, val in enumerate(sorted_times_arr):\n",
    "    print([calc_val(val), fin_timestamps_arr[idx]])\n",
    "    timestamp = calc_timestamp(val)\n",
    "    print(timestamp)\n",
    "    hours, mins, secs = calc_val(val)\n",
    "    timeval = hours * 60 + mins\n",
    "    if idx+1 == len(fin_times_arr):\n",
    "        continue\n",
    "    if calc_timeval(sorted_times_arr[idx+1]) - calc_timeval(val) > 8:\n",
    "        print('ok')\n",
    "        next_timestamp = calc_timestamp(sorted_times_arr[idx+1])\n",
    "        fin_arr += list(clip[timestamp:next_timestamp])"
   ]
  },
  {
   "cell_type": "code",
   "execution_count": 128,
   "metadata": {},
   "outputs": [
    {
     "output_type": "stream",
     "name": "stdout",
     "text": [
      "238139392\n"
     ]
    }
   ],
   "source": [
    "sf.write('test.wav', fin_arr, sr)\n",
    "print(len(clip))"
   ]
  },
  {
   "cell_type": "code",
   "execution_count": null,
   "metadata": {},
   "outputs": [],
   "source": []
  }
 ]
}