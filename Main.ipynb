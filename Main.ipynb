{
 "metadata": {
  "language_info": {
   "codemirror_mode": {
    "name": "ipython",
    "version": 3
   },
   "file_extension": ".py",
   "mimetype": "text/x-python",
   "name": "python",
   "nbconvert_exporter": "python",
   "pygments_lexer": "ipython3",
   "version": "3.9.0"
  },
  "orig_nbformat": 2,
  "kernelspec": {
   "name": "python3",
   "display_name": "Python 3.9.0 64-bit"
  },
  "metadata": {
   "interpreter": {
    "hash": "aee8b7b246df8f9039afb4144a1f6fd8d2ca17a180786b69acc140d282b71a49"
   }
  },
  "interpreter": {
   "hash": "aee8b7b246df8f9039afb4144a1f6fd8d2ca17a180786b69acc140d282b71a49"
  }
 },
 "nbformat": 4,
 "nbformat_minor": 2,
 "cells": [
  {
   "source": [
    "<h1>Imports</h1>\n",
    "<p>This is importing the 3 libraries we need.</p>\n",
    "<p>The first two (librosa and soundfile) allows us to edit and save audio files.</p>\n",
    "<p>The next one (numpy) supplies a load of numerical functions.</p>"
   ],
   "cell_type": "markdown",
   "metadata": {}
  },
  {
   "cell_type": "code",
   "execution_count": 12,
   "metadata": {},
   "outputs": [],
   "source": [
    "import librosa\n",
    "import soundfile as sf\n",
    "import numpy\n",
    "import requests\n",
    "import re\n",
    "import json"
   ]
  },
  {
   "cell_type": "code",
   "execution_count": 30,
   "metadata": {
    "tags": []
   },
   "outputs": [
    {
     "output_type": "stream",
     "name": "stdout",
     "text": [
      "http://catchup.hosting.thisisdax.com/045981f8-79a9-4036-813e-56da49b0fd5f/29f426f6-53ba-42db-a7fb-738c68d686a9.m4a?aw_0_1st.channelid=d2bf085f-d4e0-4a6b-80d6-75d92bf0fcae&aw_0_1st.showid=045981f8-79a9-4036-813e-56da49b0fd5f&aw_0_1st.episodeid=51598366-b95e-4001-b71d-58f19d3a5ee8\n"
     ]
    }
   ],
   "source": [
    "url = \"https://www.globalplayer.com/catchup/lbc/uk/46vyD81/\"\n",
    "res = requests.get(url)\n",
    "text = res.text\n",
    "text_res = re.search('__NEXT_DATA__\" type=\"application/json\">(.+?)</script>', text)\n",
    "props_str = text_res.group(1)\n",
    "json_props = json.loads(props_str)\n",
    "streamUrl = json_props['props']['pageProps']['catchupInfo']['episodes'][0]['streamUrl']"
   ]
  },
  {
   "cell_type": "code",
   "execution_count": 28,
   "metadata": {},
   "outputs": [
    {
     "output_type": "execute_result",
     "data": {
      "text/plain": [
       "64161769"
      ]
     },
     "metadata": {},
     "execution_count": 28
    }
   ],
   "source": [
    "streamRes = requests.get(streamUrl)\n",
    "open('originalstream.m4a', 'wb').write(streamRes.content)"
   ]
  },
  {
   "source": [
    "<h1>Loading the main audio</h1>\n",
    "<p>Firstly, we will use the librosa load function to load the 3 hour LBC show (James O'Brien of course).</p>\n",
    "<p>We save this loaded file to two variables. The first variable called 'clip' holds the audio file as an array of numbers.</p>\n",
    "<p>The second variable called 'sr' holds the soundrate as a number. This is irrelevant and useless until we save the file after editing it as we need the original soundrate. (Don't worry about this)</p>"
   ],
   "cell_type": "markdown",
   "metadata": {}
  },
  {
   "cell_type": "code",
   "execution_count": 31,
   "metadata": {},
   "outputs": [
    {
     "output_type": "stream",
     "name": "stderr",
     "text": [
      "/Library/Frameworks/Python.framework/Versions/3.9/lib/python3.9/site-packages/librosa/core/audio.py:162: UserWarning: PySoundFile failed. Trying audioread instead.\n  warnings.warn(\"PySoundFile failed. Trying audioread instead.\")\n"
     ]
    },
    {
     "output_type": "error",
     "ename": "FileNotFoundError",
     "evalue": "[Errno 2] No such file or directory: 'originalstream.m4a'",
     "traceback": [
      "\u001b[0;31m---------------------------------------------------------------------------\u001b[0m",
      "\u001b[0;31mRuntimeError\u001b[0m                              Traceback (most recent call last)",
      "\u001b[0;32m/Library/Frameworks/Python.framework/Versions/3.9/lib/python3.9/site-packages/librosa/core/audio.py\u001b[0m in \u001b[0;36mload\u001b[0;34m(path, sr, mono, offset, duration, dtype, res_type)\u001b[0m\n\u001b[1;32m    145\u001b[0m     \u001b[0;32mtry\u001b[0m\u001b[0;34m:\u001b[0m\u001b[0;34m\u001b[0m\u001b[0;34m\u001b[0m\u001b[0m\n\u001b[0;32m--> 146\u001b[0;31m         \u001b[0;32mwith\u001b[0m \u001b[0msf\u001b[0m\u001b[0;34m.\u001b[0m\u001b[0mSoundFile\u001b[0m\u001b[0;34m(\u001b[0m\u001b[0mpath\u001b[0m\u001b[0;34m)\u001b[0m \u001b[0;32mas\u001b[0m \u001b[0msf_desc\u001b[0m\u001b[0;34m:\u001b[0m\u001b[0;34m\u001b[0m\u001b[0;34m\u001b[0m\u001b[0m\n\u001b[0m\u001b[1;32m    147\u001b[0m             \u001b[0msr_native\u001b[0m \u001b[0;34m=\u001b[0m \u001b[0msf_desc\u001b[0m\u001b[0;34m.\u001b[0m\u001b[0msamplerate\u001b[0m\u001b[0;34m\u001b[0m\u001b[0;34m\u001b[0m\u001b[0m\n",
      "\u001b[0;32m/Library/Frameworks/Python.framework/Versions/3.9/lib/python3.9/site-packages/soundfile.py\u001b[0m in \u001b[0;36m__init__\u001b[0;34m(self, file, mode, samplerate, channels, subtype, endian, format, closefd)\u001b[0m\n\u001b[1;32m    628\u001b[0m                                          format, subtype, endian)\n\u001b[0;32m--> 629\u001b[0;31m         \u001b[0mself\u001b[0m\u001b[0;34m.\u001b[0m\u001b[0m_file\u001b[0m \u001b[0;34m=\u001b[0m \u001b[0mself\u001b[0m\u001b[0;34m.\u001b[0m\u001b[0m_open\u001b[0m\u001b[0;34m(\u001b[0m\u001b[0mfile\u001b[0m\u001b[0;34m,\u001b[0m \u001b[0mmode_int\u001b[0m\u001b[0;34m,\u001b[0m \u001b[0mclosefd\u001b[0m\u001b[0;34m)\u001b[0m\u001b[0;34m\u001b[0m\u001b[0;34m\u001b[0m\u001b[0m\n\u001b[0m\u001b[1;32m    630\u001b[0m         \u001b[0;32mif\u001b[0m \u001b[0mset\u001b[0m\u001b[0;34m(\u001b[0m\u001b[0mmode\u001b[0m\u001b[0;34m)\u001b[0m\u001b[0;34m.\u001b[0m\u001b[0missuperset\u001b[0m\u001b[0;34m(\u001b[0m\u001b[0;34m'r+'\u001b[0m\u001b[0;34m)\u001b[0m \u001b[0;32mand\u001b[0m \u001b[0mself\u001b[0m\u001b[0;34m.\u001b[0m\u001b[0mseekable\u001b[0m\u001b[0;34m(\u001b[0m\u001b[0;34m)\u001b[0m\u001b[0;34m:\u001b[0m\u001b[0;34m\u001b[0m\u001b[0;34m\u001b[0m\u001b[0m\n",
      "\u001b[0;32m/Library/Frameworks/Python.framework/Versions/3.9/lib/python3.9/site-packages/soundfile.py\u001b[0m in \u001b[0;36m_open\u001b[0;34m(self, file, mode_int, closefd)\u001b[0m\n\u001b[1;32m   1182\u001b[0m             \u001b[0;32mraise\u001b[0m \u001b[0mTypeError\u001b[0m\u001b[0;34m(\u001b[0m\u001b[0;34m\"Invalid file: {0!r}\"\u001b[0m\u001b[0;34m.\u001b[0m\u001b[0mformat\u001b[0m\u001b[0;34m(\u001b[0m\u001b[0mself\u001b[0m\u001b[0;34m.\u001b[0m\u001b[0mname\u001b[0m\u001b[0;34m)\u001b[0m\u001b[0;34m)\u001b[0m\u001b[0;34m\u001b[0m\u001b[0;34m\u001b[0m\u001b[0m\n\u001b[0;32m-> 1183\u001b[0;31m         _error_check(_snd.sf_error(file_ptr),\n\u001b[0m\u001b[1;32m   1184\u001b[0m                      \"Error opening {0!r}: \".format(self.name))\n",
      "\u001b[0;32m/Library/Frameworks/Python.framework/Versions/3.9/lib/python3.9/site-packages/soundfile.py\u001b[0m in \u001b[0;36m_error_check\u001b[0;34m(err, prefix)\u001b[0m\n\u001b[1;32m   1356\u001b[0m         \u001b[0merr_str\u001b[0m \u001b[0;34m=\u001b[0m \u001b[0m_snd\u001b[0m\u001b[0;34m.\u001b[0m\u001b[0msf_error_number\u001b[0m\u001b[0;34m(\u001b[0m\u001b[0merr\u001b[0m\u001b[0;34m)\u001b[0m\u001b[0;34m\u001b[0m\u001b[0;34m\u001b[0m\u001b[0m\n\u001b[0;32m-> 1357\u001b[0;31m         \u001b[0;32mraise\u001b[0m \u001b[0mRuntimeError\u001b[0m\u001b[0;34m(\u001b[0m\u001b[0mprefix\u001b[0m \u001b[0;34m+\u001b[0m \u001b[0m_ffi\u001b[0m\u001b[0;34m.\u001b[0m\u001b[0mstring\u001b[0m\u001b[0;34m(\u001b[0m\u001b[0merr_str\u001b[0m\u001b[0;34m)\u001b[0m\u001b[0;34m.\u001b[0m\u001b[0mdecode\u001b[0m\u001b[0;34m(\u001b[0m\u001b[0;34m'utf-8'\u001b[0m\u001b[0;34m,\u001b[0m \u001b[0;34m'replace'\u001b[0m\u001b[0;34m)\u001b[0m\u001b[0;34m)\u001b[0m\u001b[0;34m\u001b[0m\u001b[0;34m\u001b[0m\u001b[0m\n\u001b[0m\u001b[1;32m   1358\u001b[0m \u001b[0;34m\u001b[0m\u001b[0m\n",
      "\u001b[0;31mRuntimeError\u001b[0m: Error opening 'originalstream.m4a': System error.",
      "\nDuring handling of the above exception, another exception occurred:\n",
      "\u001b[0;31mFileNotFoundError\u001b[0m                         Traceback (most recent call last)",
      "\u001b[0;32m<ipython-input-31-558f4e0ef038>\u001b[0m in \u001b[0;36m<module>\u001b[0;34m\u001b[0m\n\u001b[0;32m----> 1\u001b[0;31m \u001b[0mclip\u001b[0m\u001b[0;34m,\u001b[0m \u001b[0msr\u001b[0m \u001b[0;34m=\u001b[0m \u001b[0mlibrosa\u001b[0m\u001b[0;34m.\u001b[0m\u001b[0mload\u001b[0m\u001b[0;34m(\u001b[0m\u001b[0;34m'originalstream.m4a'\u001b[0m\u001b[0;34m)\u001b[0m\u001b[0;34m\u001b[0m\u001b[0;34m\u001b[0m\u001b[0m\n\u001b[0m",
      "\u001b[0;32m/Library/Frameworks/Python.framework/Versions/3.9/lib/python3.9/site-packages/librosa/core/audio.py\u001b[0m in \u001b[0;36mload\u001b[0;34m(path, sr, mono, offset, duration, dtype, res_type)\u001b[0m\n\u001b[1;32m    161\u001b[0m         \u001b[0;32mif\u001b[0m \u001b[0misinstance\u001b[0m\u001b[0;34m(\u001b[0m\u001b[0mpath\u001b[0m\u001b[0;34m,\u001b[0m \u001b[0;34m(\u001b[0m\u001b[0mstr\u001b[0m\u001b[0;34m,\u001b[0m \u001b[0mpathlib\u001b[0m\u001b[0;34m.\u001b[0m\u001b[0mPurePath\u001b[0m\u001b[0;34m)\u001b[0m\u001b[0;34m)\u001b[0m\u001b[0;34m:\u001b[0m\u001b[0;34m\u001b[0m\u001b[0;34m\u001b[0m\u001b[0m\n\u001b[1;32m    162\u001b[0m             \u001b[0mwarnings\u001b[0m\u001b[0;34m.\u001b[0m\u001b[0mwarn\u001b[0m\u001b[0;34m(\u001b[0m\u001b[0;34m\"PySoundFile failed. Trying audioread instead.\"\u001b[0m\u001b[0;34m)\u001b[0m\u001b[0;34m\u001b[0m\u001b[0;34m\u001b[0m\u001b[0m\n\u001b[0;32m--> 163\u001b[0;31m             \u001b[0my\u001b[0m\u001b[0;34m,\u001b[0m \u001b[0msr_native\u001b[0m \u001b[0;34m=\u001b[0m \u001b[0m__audioread_load\u001b[0m\u001b[0;34m(\u001b[0m\u001b[0mpath\u001b[0m\u001b[0;34m,\u001b[0m \u001b[0moffset\u001b[0m\u001b[0;34m,\u001b[0m \u001b[0mduration\u001b[0m\u001b[0;34m,\u001b[0m \u001b[0mdtype\u001b[0m\u001b[0;34m)\u001b[0m\u001b[0;34m\u001b[0m\u001b[0;34m\u001b[0m\u001b[0m\n\u001b[0m\u001b[1;32m    164\u001b[0m         \u001b[0;32melse\u001b[0m\u001b[0;34m:\u001b[0m\u001b[0;34m\u001b[0m\u001b[0;34m\u001b[0m\u001b[0m\n\u001b[1;32m    165\u001b[0m             \u001b[0;32mraise\u001b[0m \u001b[0;34m(\u001b[0m\u001b[0mexc\u001b[0m\u001b[0;34m)\u001b[0m\u001b[0;34m\u001b[0m\u001b[0;34m\u001b[0m\u001b[0m\n",
      "\u001b[0;32m/Library/Frameworks/Python.framework/Versions/3.9/lib/python3.9/site-packages/librosa/core/audio.py\u001b[0m in \u001b[0;36m__audioread_load\u001b[0;34m(path, offset, duration, dtype)\u001b[0m\n\u001b[1;32m    185\u001b[0m \u001b[0;34m\u001b[0m\u001b[0m\n\u001b[1;32m    186\u001b[0m     \u001b[0my\u001b[0m \u001b[0;34m=\u001b[0m \u001b[0;34m[\u001b[0m\u001b[0;34m]\u001b[0m\u001b[0;34m\u001b[0m\u001b[0;34m\u001b[0m\u001b[0m\n\u001b[0;32m--> 187\u001b[0;31m     \u001b[0;32mwith\u001b[0m \u001b[0maudioread\u001b[0m\u001b[0;34m.\u001b[0m\u001b[0maudio_open\u001b[0m\u001b[0;34m(\u001b[0m\u001b[0mpath\u001b[0m\u001b[0;34m)\u001b[0m \u001b[0;32mas\u001b[0m \u001b[0minput_file\u001b[0m\u001b[0;34m:\u001b[0m\u001b[0;34m\u001b[0m\u001b[0;34m\u001b[0m\u001b[0m\n\u001b[0m\u001b[1;32m    188\u001b[0m         \u001b[0msr_native\u001b[0m \u001b[0;34m=\u001b[0m \u001b[0minput_file\u001b[0m\u001b[0;34m.\u001b[0m\u001b[0msamplerate\u001b[0m\u001b[0;34m\u001b[0m\u001b[0;34m\u001b[0m\u001b[0m\n\u001b[1;32m    189\u001b[0m         \u001b[0mn_channels\u001b[0m \u001b[0;34m=\u001b[0m \u001b[0minput_file\u001b[0m\u001b[0;34m.\u001b[0m\u001b[0mchannels\u001b[0m\u001b[0;34m\u001b[0m\u001b[0;34m\u001b[0m\u001b[0m\n",
      "\u001b[0;32m/Library/Frameworks/Python.framework/Versions/3.9/lib/python3.9/site-packages/audioread/__init__.py\u001b[0m in \u001b[0;36maudio_open\u001b[0;34m(path, backends)\u001b[0m\n\u001b[1;32m    109\u001b[0m     \u001b[0;32mfor\u001b[0m \u001b[0mBackendClass\u001b[0m \u001b[0;32min\u001b[0m \u001b[0mbackends\u001b[0m\u001b[0;34m:\u001b[0m\u001b[0;34m\u001b[0m\u001b[0;34m\u001b[0m\u001b[0m\n\u001b[1;32m    110\u001b[0m         \u001b[0;32mtry\u001b[0m\u001b[0;34m:\u001b[0m\u001b[0;34m\u001b[0m\u001b[0;34m\u001b[0m\u001b[0m\n\u001b[0;32m--> 111\u001b[0;31m             \u001b[0;32mreturn\u001b[0m \u001b[0mBackendClass\u001b[0m\u001b[0;34m(\u001b[0m\u001b[0mpath\u001b[0m\u001b[0;34m)\u001b[0m\u001b[0;34m\u001b[0m\u001b[0;34m\u001b[0m\u001b[0m\n\u001b[0m\u001b[1;32m    112\u001b[0m         \u001b[0;32mexcept\u001b[0m \u001b[0mDecodeError\u001b[0m\u001b[0;34m:\u001b[0m\u001b[0;34m\u001b[0m\u001b[0;34m\u001b[0m\u001b[0m\n\u001b[1;32m    113\u001b[0m             \u001b[0;32mpass\u001b[0m\u001b[0;34m\u001b[0m\u001b[0;34m\u001b[0m\u001b[0m\n",
      "\u001b[0;32m/Library/Frameworks/Python.framework/Versions/3.9/lib/python3.9/site-packages/audioread/rawread.py\u001b[0m in \u001b[0;36m__init__\u001b[0;34m(self, filename)\u001b[0m\n\u001b[1;32m     60\u001b[0m     \"\"\"\n\u001b[1;32m     61\u001b[0m     \u001b[0;32mdef\u001b[0m \u001b[0m__init__\u001b[0m\u001b[0;34m(\u001b[0m\u001b[0mself\u001b[0m\u001b[0;34m,\u001b[0m \u001b[0mfilename\u001b[0m\u001b[0;34m)\u001b[0m\u001b[0;34m:\u001b[0m\u001b[0;34m\u001b[0m\u001b[0;34m\u001b[0m\u001b[0m\n\u001b[0;32m---> 62\u001b[0;31m         \u001b[0mself\u001b[0m\u001b[0;34m.\u001b[0m\u001b[0m_fh\u001b[0m \u001b[0;34m=\u001b[0m \u001b[0mopen\u001b[0m\u001b[0;34m(\u001b[0m\u001b[0mfilename\u001b[0m\u001b[0;34m,\u001b[0m \u001b[0;34m'rb'\u001b[0m\u001b[0;34m)\u001b[0m\u001b[0;34m\u001b[0m\u001b[0;34m\u001b[0m\u001b[0m\n\u001b[0m\u001b[1;32m     63\u001b[0m \u001b[0;34m\u001b[0m\u001b[0m\n\u001b[1;32m     64\u001b[0m         \u001b[0;32mtry\u001b[0m\u001b[0;34m:\u001b[0m\u001b[0;34m\u001b[0m\u001b[0;34m\u001b[0m\u001b[0m\n",
      "\u001b[0;31mFileNotFoundError\u001b[0m: [Errno 2] No such file or directory: 'originalstream.m4a'"
     ]
    }
   ],
   "source": [
    "clip, sr = librosa.load('originalstream.m4a')"
   ]
  },
  {
   "source": [
    "<h2>Loading the audio to match with the show</h2>\n",
    "<p>I've previously clipped down an LBC show to the jingle they play immediately before and after the adverts. Depending on the time of day, they play one of a selection of a few jingles loaded below before going to an advert break and before coming back.</p>\n",
    "<p>I've used the librosa load function and named these clips appropriately as 'start_matcher' or 'news_matcher'. I've used an underscore (_) for the second variable (which means discard) as the soundrate isn't important for these files as we won't be saving them.</p>"
   ],
   "cell_type": "markdown",
   "metadata": {}
  },
  {
   "cell_type": "code",
   "execution_count": 3,
   "metadata": {},
   "outputs": [
    {
     "output_type": "stream",
     "name": "stderr",
     "text": [
      "/Library/Frameworks/Python.framework/Versions/3.9/lib/python3.9/site-packages/librosa/core/audio.py:162: UserWarning: PySoundFile failed. Trying audioread instead.\n  warnings.warn(\"PySoundFile failed. Trying audioread instead.\")\n"
     ]
    }
   ],
   "source": [
    "start_matcher, _ = librosa.load('ad_start.mp3')"
   ]
  },
  {
   "cell_type": "code",
   "execution_count": 4,
   "metadata": {},
   "outputs": [
    {
     "output_type": "stream",
     "name": "stderr",
     "text": [
      "/Library/Frameworks/Python.framework/Versions/3.9/lib/python3.9/site-packages/librosa/core/audio.py:162: UserWarning: PySoundFile failed. Trying audioread instead.\n  warnings.warn(\"PySoundFile failed. Trying audioread instead.\")\n"
     ]
    }
   ],
   "source": [
    "news_matcher, _ = librosa.load('news_start.mp3')"
   ]
  },
  {
   "cell_type": "code",
   "execution_count": 5,
   "metadata": {},
   "outputs": [
    {
     "output_type": "stream",
     "name": "stderr",
     "text": [
      "/Library/Frameworks/Python.framework/Versions/3.9/lib/python3.9/site-packages/librosa/core/audio.py:162: UserWarning: PySoundFile failed. Trying audioread instead.\n  warnings.warn(\"PySoundFile failed. Trying audioread instead.\")\n"
     ]
    }
   ],
   "source": [
    "end_matcher, _ = librosa.load('ad_end.mp3')"
   ]
  },
  {
   "cell_type": "code",
   "execution_count": 6,
   "metadata": {},
   "outputs": [
    {
     "output_type": "stream",
     "name": "stderr",
     "text": [
      "/Library/Frameworks/Python.framework/Versions/3.9/lib/python3.9/site-packages/librosa/core/audio.py:162: UserWarning: PySoundFile failed. Trying audioread instead.\n  warnings.warn(\"PySoundFile failed. Trying audioread instead.\")\n"
     ]
    }
   ],
   "source": [
    "alt_matcher, _ = librosa.load('alt_ads.mp3')"
   ]
  },
  {
   "cell_type": "code",
   "execution_count": 7,
   "metadata": {},
   "outputs": [
    {
     "output_type": "stream",
     "name": "stderr",
     "text": [
      "/Library/Frameworks/Python.framework/Versions/3.9/lib/python3.9/site-packages/librosa/core/audio.py:162: UserWarning: PySoundFile failed. Trying audioread instead.\n  warnings.warn(\"PySoundFile failed. Trying audioread instead.\")\n"
     ]
    }
   ],
   "source": [
    "alt2_matcher, _ = librosa.load('alt2_ads.mp3')"
   ]
  },
  {
   "cell_type": "code",
   "execution_count": 8,
   "metadata": {},
   "outputs": [
    {
     "output_type": "stream",
     "name": "stderr",
     "text": [
      "/Library/Frameworks/Python.framework/Versions/3.9/lib/python3.9/site-packages/librosa/core/audio.py:162: UserWarning: PySoundFile failed. Trying audioread instead.\n  warnings.warn(\"PySoundFile failed. Trying audioread instead.\")\n"
     ]
    }
   ],
   "source": [
    "alt3_matcher, _ = librosa.load('alt3_ads.mp3')"
   ]
  },
  {
   "cell_type": "code",
   "execution_count": 9,
   "metadata": {},
   "outputs": [
    {
     "output_type": "stream",
     "name": "stderr",
     "text": [
      "/Library/Frameworks/Python.framework/Versions/3.9/lib/python3.9/site-packages/librosa/core/audio.py:162: UserWarning: PySoundFile failed. Trying audioread instead.\n  warnings.warn(\"PySoundFile failed. Trying audioread instead.\")\n"
     ]
    }
   ],
   "source": [
    "alt4_matcher, _ = librosa.load('alt4_ads.mp3')"
   ]
  },
  {
   "cell_type": "code",
   "execution_count": 10,
   "metadata": {},
   "outputs": [
    {
     "output_type": "stream",
     "name": "stderr",
     "text": [
      "/Library/Frameworks/Python.framework/Versions/3.9/lib/python3.9/site-packages/librosa/core/audio.py:162: UserWarning: PySoundFile failed. Trying audioread instead.\n  warnings.warn(\"PySoundFile failed. Trying audioread instead.\")\n"
     ]
    }
   ],
   "source": [
    "alt5_matcher, _ = librosa.load('alt5_ads.mp3')"
   ]
  },
  {
   "source": [
    "<h1>Get matching scores function</h1>\n",
    "<p>Below, I've defined the 'matching scores' function. This takes two inputs and outputs two values. On the first line, it calls the librosa frame utility function to split the clip input (3 hour LBC show) into sections the length of the matcher (the LBC adverts intro or outro - usually about 5 seconds). It saves these 5 second snippets of the 3 hour show as an array into a variable called 'frames'</p>\n",
    "<p>We then create an empty array called 'scores'</p>\n",
    "<p>We loop through the array we just created called 'frames' containing 5 second snippets. For every 5 second snippet we use numpy to compare the 5 second snippet and the matcher (LBC adverts intro or outro). If they are similar, we know LBC is about to go to an adverts break or come back from an adverts break. If they are similar, numpy generates a high score, often over 200, however if they are different, numpy generates a lower score, often under 200.</p>\n",
    "<p>We then add the score to the empty array of scores we previously created.</p>\n",
    "<p>When this loop is complete, we will have an array of scores corresponding to the array of 5 second frames with every score describing the similarity between the frame and the preset intro/outro clip.</p>\n",
    "<p>We 'return' this array of scores along with the array of frames.</p>"
   ],
   "cell_type": "markdown",
   "metadata": {}
  },
  {
   "cell_type": "code",
   "execution_count": 11,
   "metadata": {},
   "outputs": [],
   "source": [
    "def get_scores(clip, matcher):\n",
    "    frames = librosa.util.frame(clip, len(matcher), 45, axis=0)\n",
    "    scores = []\n",
    "    for x, frame in enumerate(frames):\n",
    "        num = numpy.correlate(frame, matcher)\n",
    "        scores.append(num[0])\n",
    "    return scores, frames"
   ]
  },
  {
   "source": [
    "<h2>Calling the 'get matching scores' function</h2>\n",
    "<p>We now call the function above with the two parameters. Firstly, we pass in the 3 hour clip we imported using librosa load above. Secondly, we pass in the matcher to generate the correlation array, telling us how similar every 5 second clip within the 3 hour show and the 5 second advert intro or outro are.</p>\n",
    "<p>We do this for every intro/outro matcher imported above using the librosa load function.</p>"
   ],
   "cell_type": "markdown",
   "metadata": {}
  },
  {
   "cell_type": "code",
   "execution_count": 12,
   "metadata": {},
   "outputs": [
    {
     "output_type": "stream",
     "name": "stdout",
     "text": [
      "start done\n",
      "end done\n"
     ]
    }
   ],
   "source": [
    "start_scores, start_frames = get_scores(clip, start_matcher)\n",
    "print('start done')\n",
    "end_scores, end_frames = get_scores(clip, end_matcher)\n",
    "print('end done')"
   ]
  },
  {
   "cell_type": "code",
   "execution_count": 13,
   "metadata": {},
   "outputs": [
    {
     "output_type": "stream",
     "name": "stdout",
     "text": [
      "news done\n"
     ]
    }
   ],
   "source": [
    "news_scores, news_frames = get_scores(clip, news_matcher)\n",
    "print('news done')"
   ]
  },
  {
   "cell_type": "code",
   "execution_count": 14,
   "metadata": {},
   "outputs": [],
   "source": [
    "alt_scores, alt_frames = get_scores(clip, alt_matcher)"
   ]
  },
  {
   "cell_type": "code",
   "execution_count": 15,
   "metadata": {},
   "outputs": [],
   "source": [
    "alt2_scores, alt2_frames = get_scores(clip, alt2_matcher)"
   ]
  },
  {
   "cell_type": "code",
   "execution_count": 16,
   "metadata": {},
   "outputs": [],
   "source": [
    "alt3_scores, alt3_frames = get_scores(clip, alt3_matcher)"
   ]
  },
  {
   "cell_type": "code",
   "execution_count": 17,
   "metadata": {},
   "outputs": [],
   "source": [
    "alt4_scores, alt4_frames = get_scores(clip, alt4_matcher)"
   ]
  },
  {
   "cell_type": "code",
   "execution_count": 18,
   "metadata": {},
   "outputs": [],
   "source": [
    "alt5_scores, alt5_frames = get_scores(clip, alt5_matcher)"
   ]
  },
  {
   "source": [
    "<h1>Getting the significant times</h1>\n",
    "<p>The 'get times' function looks through the scores array generated by the 'get matching scores' function and returns the scores above a certain threshold along with their timestamp so we know exactly where the adverts start and finish playing in the 3 hour show.</p>\n",
    "<p>It takes in 4 parameters. Scores: the previously generated array of scores. Matcher: the 5(ish) second clip we're searching for. Threshold: a value often around 200 which the correlation score must be above for us to assume the clips are the same (and assume we have found the location of the adverts intro/outro). Frames - the original array of the 3 hour show split into 5 second clips.</p>\n",
    "\n",
    "<p>We create two empty arrays to start with. 'done_times' and 'ret_times'. We then loop through the previously generated array of scores (given as an input) backwards.</p>\n",
    "<p>'done_times' will hold any times that we've marked as intro/outro (where the ads begin) to the nearest minute. This will later ensure that we don't mark any minutes multiple times. For example, if the intro is playing over 5 seconds and we check every individual second within that time, we could mark that timestamp 5 times which would be unneccesary.</p>\n",
    "<p>'ret_times' will hold any times that we've marked as intro/outro, similarly to 'done_times', but to a much more precise value. We will return 'ret_times' and use this to cut out the adverts as it is to the nearest second not the nearest minute.</p>\n",
    "\n",
    "<p>Firstly, we check that the current value is greater than the threshold we have set. If it is less, for example the threshold is 200 and the correlation between the current 5 second clip and the advert intro/outro is only 150, we discard this value and move on. Assuming it is greater than the threshold, we continue with this value.</p>\n",
    "<p>We calculate how far through the 3 hour show this value is found using a short formula as a decimal where 0 is the start and 1 is the end (3 hours in).</p>\n",
    "<p>We then use a short function to calculate the number of hours, minutes and seconds into the show and save into hours, mins and secs variables respectively.</p>\n",
    "<p>We check if the value is in 'done_times', meaning we have already marked it using the hours and minutes. If it is, we 'continue' to the next value and return to the start of the loop for the next value.</p>\n",
    "\n",
    "<p>Assuming the value isn't in 'done_times', we keep going and add the value to 'done_times' so we don't duplicate it later. We also add the accurate value to 'ret_times' to help us edit the 3 hour show. We print the current index and value for debugging purposes as well as the hours and minutes to the user. We save the short clip to a file to double check it matches the intro/outro</p>\n",
    "\n",
    "<p>After the loop is complete, we return ret_times which contains all the timestamps in the show where the adverts intro/outro is playing.</p>"
   ],
   "cell_type": "markdown",
   "metadata": {}
  },
  {
   "cell_type": "code",
   "execution_count": 19,
   "metadata": {
    "tags": []
   },
   "outputs": [],
   "source": [
    "def calc_val(way_through):\n",
    "    hours = numpy.floor(way_through * 3)\n",
    "    mins = ((way_through * 3) - hours)*60\n",
    "    secs = (((way_through * 3) - hours)*60 - mins ) * 60\n",
    "    return hours, mins, secs\n",
    "\n",
    "def get_times(scores, matcher, threshold, frames):\n",
    "    done_times = []\n",
    "    ret_times = []\n",
    "    for x, num in reversed(list(enumerate(scores))):\n",
    "        if num > threshold:\n",
    "            way_through = x/(len(scores)-(len(matcher)/45))\n",
    "            hours, mins, secs = calc_val(way_through)\n",
    "            if [hours, numpy.floor(mins)] in done_times:\n",
    "                continue\n",
    "            done_times.append([hours, numpy.floor(mins)])\n",
    "            ret_times.append([way_through, x])\n",
    "            print(x)\n",
    "            print(num)\n",
    "            print('It is ' + str(hours) + ' hours and ' + str(mins) + ' mins and ' + str(secs) + ' secs.')\n",
    "            sf.write(str(num)+'.wav', frames[x], sr)\n",
    "    return ret_times"
   ]
  },
  {
   "source": [
    "<h2>Calling the get times function</h2>\n",
    "<p>We call the get times function with the scores, matcher, threshold and frames inputs.</p>\n",
    "<p>We want the threshold to be as high as possible to avoid any false positives but not too high or we could miss some advert intros/outros that sound slightly different.</p>\n",
    "<p>I have selected appropriate values for all the clips depending on how regularly they are played.</p>"
   ],
   "cell_type": "markdown",
   "metadata": {}
  },
  {
   "cell_type": "code",
   "execution_count": 20,
   "metadata": {},
   "outputs": [
    {
     "output_type": "stream",
     "name": "stdout",
     "text": [
      "2703862\n262.998\nIt is 1.0 hours and 32.00239620705149 mins and 0.0 secs.\n"
     ]
    }
   ],
   "source": [
    "start_times = get_times(start_scores, start_matcher, 200, start_frames)"
   ]
  },
  {
   "cell_type": "code",
   "execution_count": 21,
   "metadata": {},
   "outputs": [
    {
     "output_type": "stream",
     "name": "stdout",
     "text": [
      "4078454\n",
      "1443.5284\n",
      "It is 2.0 hours and 18.877574744514256 mins and 0.0 secs.\n",
      "3242122\n",
      "1871.8562\n",
      "It is 1.0 hours and 50.39919547599018 mins and 0.0 secs.\n",
      "2376723\n",
      "338.36176\n",
      "It is 1.0 hours and 20.931040555932753 mins and 0.0 secs.\n",
      "1458297\n",
      "1042.5073\n",
      "It is 0.0 hours and 49.65723546647845 mins and 0.0 secs.\n",
      "654971\n",
      "2073.5515\n",
      "It is 0.0 hours and 22.30276080298791 mins and 0.0 secs.\n"
     ]
    }
   ],
   "source": [
    "end_times = get_times(end_scores, end_matcher, 300, end_frames)"
   ]
  },
  {
   "cell_type": "code",
   "execution_count": 22,
   "metadata": {},
   "outputs": [
    {
     "output_type": "stream",
     "name": "stdout",
     "text": [
      "3560208\n",
      "431.57855\n",
      "It is 2.0 hours and 1.4315559984279602 mins and 0.0 secs.\n",
      "1786055\n",
      "520.3011\n",
      "It is 1.0 hours and 0.9187546763482057 mins and 0.0 secs.\n",
      "13791\n",
      "472.25644\n",
      "It is 0.0 hours and 0.47038335647083546 mins and 0.0 secs.\n"
     ]
    }
   ],
   "source": [
    "news_times = get_times(news_scores, news_matcher, 400, news_frames)"
   ]
  },
  {
   "cell_type": "code",
   "execution_count": 23,
   "metadata": {},
   "outputs": [
    {
     "output_type": "stream",
     "name": "stdout",
     "text": [
      "2703982\n247.05615\nIt is 1.0 hours and 32.00064166993466 mins and 0.0 secs.\n"
     ]
    }
   ],
   "source": [
    "alt_times = get_times(alt_scores, alt_matcher, 150, alt_frames)"
   ]
  },
  {
   "cell_type": "code",
   "execution_count": 24,
   "metadata": {},
   "outputs": [
    {
     "output_type": "stream",
     "name": "stdout",
     "text": [
      "4440982\n243.55203\nIt is 2.0 hours and 31.110329000228365 mins and 0.0 secs.\n"
     ]
    }
   ],
   "source": [
    "alt2_times = get_times(alt2_scores, alt2_matcher, 200, alt2_frames)"
   ]
  },
  {
   "cell_type": "code",
   "execution_count": 25,
   "metadata": {},
   "outputs": [
    {
     "output_type": "stream",
     "name": "stdout",
     "text": [
      "4903246\n",
      "426.77112\n",
      "It is 2.0 hours and 47.00476767430484 mins and 0.0 secs.\n",
      "4530644\n",
      "423.14563\n",
      "It is 2.0 hours and 34.31392767872207 mins and 0.0 secs.\n",
      "3691194\n",
      "446.57178\n",
      "It is 2.0 hours and 5.722224911984419 mins and 0.0 secs.\n",
      "2793445\n",
      "475.41016\n",
      "It is 1.0 hours and 35.144855721281054 mins and 0.0 secs.\n",
      "2376188\n",
      "410.54956\n",
      "It is 1.0 hours and 20.933064523067173 mins and 0.0 secs.\n",
      "1896823\n",
      "476.55872\n",
      "It is 1.0 hours and 4.605872198596179 mins and 0.0 secs.\n",
      "1065519\n",
      "449.20288\n",
      "It is 0.0 hours and 36.29162253893801 mins and 0.0 secs.\n",
      "113871\n",
      "403.1865\n",
      "It is 0.0 hours and 3.8784511117412364 mins and 0.0 secs.\n"
     ]
    }
   ],
   "source": [
    "alt3_times = get_times(alt3_scores, alt3_matcher, 400, alt3_frames)"
   ]
  },
  {
   "cell_type": "code",
   "execution_count": 26,
   "metadata": {},
   "outputs": [],
   "source": [
    "alt4_times = get_times(alt4_scores, alt4_matcher, 200, alt4_frames)"
   ]
  },
  {
   "cell_type": "code",
   "execution_count": 27,
   "metadata": {},
   "outputs": [],
   "source": [
    "alt5_times = get_times(alt5_scores, alt5_matcher, 200, alt5_frames)"
   ]
  },
  {
   "source": [
    "<h1>Combining the times arrays</h1>\n",
    "<p>Now we have 8 arrays with the timestamps (location within audio) for when the adverts begin/end on LBC.</p>\n",
    "<p>Below we combine them into one big array with all the timestamps for all the various intros/outros.</p>"
   ],
   "cell_type": "markdown",
   "metadata": {}
  },
  {
   "cell_type": "code",
   "execution_count": 28,
   "metadata": {},
   "outputs": [
    {
     "output_type": "stream",
     "name": "stdout",
     "text": [
      "[[0.5111146759440814, 2703982]]\n"
     ]
    }
   ],
   "source": [
    "print(alt_times)\n",
    "fin_times_zipped_arr = [*alt_times, *alt2_times, *alt3_times, *alt4_times, *alt5_times, *start_times, *news_times, *end_times]"
   ]
  },
  {
   "cell_type": "code",
   "execution_count": 29,
   "metadata": {},
   "outputs": [
    {
     "output_type": "stream",
     "name": "stdout",
     "text": [
      "[0.0026132408692824192, 0.021546950620784645, 0.12390422668326616, 0.20162012521632225, 0.2758735303693247, 0.3384375259797122, 0.35892151221442326, 0.4496168919774042, 0.4496281362392621, 0.5111146759440814, 0.5111244233725083, 0.5285825317848948, 0.613328863755501, 0.6746197555468221, 0.6984568050665801, 0.7715420819139681, 0.8395018277790465, 0.8572995982151226, 0.9278042648572491]\n"
     ]
    }
   ],
   "source": [
    "fin_times_arr, fin_timestamps_arr = zip(*fin_times_zipped_arr)\n",
    "fin_timestamps_arr = sorted(fin_timestamps_arr)\n",
    "sorted_times_arr = sorted(fin_times_arr)\n",
    "print(sorted_times_arr)"
   ]
  },
  {
   "source": [
    "<h1>Putting the timestamps to good use</h1>\n",
    "<p>The timestamps are actually decimal values representing how far through the show the advert jingle was played. A value of 0 is at the start and 1 is at the end and they are very accurate - over 10 decimal places.</p>\n",
    "<p>We loop through the array of times, sorted in chronological order.</p>\n",
    "<p>The first few lines are just for debugging purposes. The first if statement checks whether the current value is the last value in the array. If it is, we end the loop.</p>\n",
    "<p>The next if statement checks if the difference between the current values and the next value in the array is greater than 8 minutes. If it is, we assume this is a segment of James O'Brien as the ads breaks are always shorter than 8 mins.</p>\n",
    "<p>Assuming it is, we print 'ok' and calculate the timestamp of the end of the segment. We select the section from the original 3 hour show called 'clip' in between the current timestamp and the next timestamp and add this to the end of the fin_arr.</p>\n",
    "\n",
    "<p>After doing this for all segments longer than 8 mins, we have a 'fin_arr' with all segments longer than 8 mins.</p>"
   ],
   "cell_type": "markdown",
   "metadata": {}
  },
  {
   "cell_type": "code",
   "execution_count": 30,
   "metadata": {},
   "outputs": [
    {
     "output_type": "stream",
     "name": "stdout",
     "text": [
      "[(0.0, 0.47038335647083546, 0.0), 13791]\n",
      "622315\n",
      "[(0.0, 3.8784511117412364, 0.0), 113871]\n",
      "5131177\n",
      "ok\n",
      "[(0.0, 22.30276080298791, 0.0), 654971]\n",
      "29506477\n",
      "ok\n",
      "[(0.0, 36.29162253893801, 0.0), 1065519]\n",
      "48013694\n",
      "ok\n",
      "[(0.0, 49.65723546647845, 0.0), 1458297]\n",
      "65696354\n",
      "ok\n",
      "[(1.0, 0.9187546763482057, 0.0), 1786055]\n",
      "80595306\n",
      "[(1.0, 4.605872198596179, 0.0), 1896823]\n",
      "85473350\n",
      "ok\n",
      "[(1.0, 20.931040555932753, 0.0), 2376188]\n",
      "107071493\n",
      "[(1.0, 20.933064523067173, 0.0), 2376723]\n",
      "107074170\n",
      "ok\n",
      "[(1.0, 32.00064166993466, 0.0), 2703862]\n",
      "121716538\n",
      "[(1.0, 32.00239620705149, 0.0), 2703982]\n",
      "121718859\n",
      "[(1.0, 35.144855721281054, 0.0), 2793445]\n",
      "125876322\n",
      "ok\n",
      "[(1.0, 50.39919547599018, 0.0), 3242122]\n",
      "146057762\n",
      "ok\n",
      "[(2.0, 1.4315559984279602, 0.0), 3560208]\n",
      "160653538\n",
      "[(2.0, 5.722224911984419, 0.0), 3691194]\n",
      "166330078\n",
      "ok\n",
      "[(2.0, 18.877574744514256, 0.0), 4078454]\n",
      "183734562\n",
      "ok\n",
      "[(2.0, 31.110329000228365, 0.0), 4440982]\n",
      "199918454\n",
      "[(2.0, 34.31392767872207, 0.0), 4530644]\n",
      "204156805\n",
      "ok\n",
      "[(2.0, 47.00476767430484, 0.0), 4903246]\n",
      "220946743\n"
     ]
    }
   ],
   "source": [
    "def calc_timeval(val):\n",
    "    hours, mins, secs = calc_val(val)\n",
    "    return (hours * 60) + mins\n",
    "def calc_timestamp(val):\n",
    "    return int(numpy.floor(val*len(clip)))\n",
    "\n",
    "fin_arr = []\n",
    "for idx, val in enumerate(sorted_times_arr):\n",
    "    print([calc_val(val), fin_timestamps_arr[idx]])\n",
    "    timestamp = calc_timestamp(val)\n",
    "    print(timestamp)\n",
    "    hours, mins, secs = calc_val(val)\n",
    "    timeval = hours * 60 + mins\n",
    "    if idx+1 == len(fin_times_arr):\n",
    "        continue\n",
    "    if calc_timeval(sorted_times_arr[idx+1]) - calc_timeval(val) > 8:\n",
    "        print('ok')\n",
    "        next_timestamp = calc_timestamp(sorted_times_arr[idx+1])\n",
    "        fin_arr += list(clip[timestamp:next_timestamp])"
   ]
  },
  {
   "source": [
    "<p>We then save the 'fin_arr' to a file called 'test.wav' which is the 3 hour show with the adverts taken out - using the soundrate we saved right at the start!</p>"
   ],
   "cell_type": "markdown",
   "metadata": {}
  },
  {
   "cell_type": "code",
   "execution_count": 31,
   "metadata": {},
   "outputs": [
    {
     "output_type": "stream",
     "name": "stdout",
     "text": [
      "238139392\n"
     ]
    }
   ],
   "source": [
    "sf.write('test.wav', fin_arr, sr)\n",
    "print(len(clip))"
   ]
  }
 ]
}